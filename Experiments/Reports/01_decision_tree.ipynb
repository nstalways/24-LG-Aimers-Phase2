{
 "cells": [
  {
   "cell_type": "code",
   "execution_count": 2,
   "metadata": {},
   "outputs": [],
   "source": [
    "import pandas as pd"
   ]
  },
  {
   "cell_type": "code",
   "execution_count": 3,
   "metadata": {},
   "outputs": [
    {
     "data": {
      "text/html": [
       "<div>\n",
       "<style scoped>\n",
       "    .dataframe tbody tr th:only-of-type {\n",
       "        vertical-align: middle;\n",
       "    }\n",
       "\n",
       "    .dataframe tbody tr th {\n",
       "        vertical-align: top;\n",
       "    }\n",
       "\n",
       "    .dataframe thead th {\n",
       "        text-align: right;\n",
       "    }\n",
       "</style>\n",
       "<table border=\"1\" class=\"dataframe\">\n",
       "  <thead>\n",
       "    <tr style=\"text-align: right;\">\n",
       "      <th></th>\n",
       "      <th>date</th>\n",
       "      <th>model_name</th>\n",
       "      <th>test_f1_score</th>\n",
       "      <th>description</th>\n",
       "    </tr>\n",
       "  </thead>\n",
       "  <tbody>\n",
       "    <tr>\n",
       "      <th>0</th>\n",
       "      <td>2024-02-04/19:23:09</td>\n",
       "      <td>decision_tree</td>\n",
       "      <td>0.475456</td>\n",
       "      <td>모든 feature 사용. Label encoding 외 다른 전처리 X. 결측치는...</td>\n",
       "    </tr>\n",
       "    <tr>\n",
       "      <th>1</th>\n",
       "      <td>2024-02-04/19:39:40</td>\n",
       "      <td>decision_tree</td>\n",
       "      <td>0.395100</td>\n",
       "      <td>절반 정도의 feature만 사용. Label encoding 외 다른 전처리 X....</td>\n",
       "    </tr>\n",
       "    <tr>\n",
       "      <th>2</th>\n",
       "      <td>2024-02-04/21:41:42</td>\n",
       "      <td>decision_tree</td>\n",
       "      <td>0.424242</td>\n",
       "      <td>customer_country.1 feature 삭제. customer_countr...</td>\n",
       "    </tr>\n",
       "    <tr>\n",
       "      <th>3</th>\n",
       "      <td>2024-02-04/22:26:01</td>\n",
       "      <td>decision_tree</td>\n",
       "      <td>0.326203</td>\n",
       "      <td>GridSearchCV 사용. Label encoding 외 다른 전처리 X. 결측...</td>\n",
       "    </tr>\n",
       "  </tbody>\n",
       "</table>\n",
       "</div>"
      ],
      "text/plain": [
       "                  date     model_name  test_f1_score  \\\n",
       "0  2024-02-04/19:23:09  decision_tree       0.475456   \n",
       "1  2024-02-04/19:39:40  decision_tree       0.395100   \n",
       "2  2024-02-04/21:41:42  decision_tree       0.424242   \n",
       "3  2024-02-04/22:26:01  decision_tree       0.326203   \n",
       "\n",
       "                                         description  \n",
       "0  모든 feature 사용. Label encoding 외 다른 전처리 X. 결측치는...  \n",
       "1  절반 정도의 feature만 사용. Label encoding 외 다른 전처리 X....  \n",
       "2  customer_country.1 feature 삭제. customer_countr...  \n",
       "3  GridSearchCV 사용. Label encoding 외 다른 전처리 X. 결측...  "
      ]
     },
     "execution_count": 3,
     "metadata": {},
     "output_type": "execute_result"
    }
   ],
   "source": [
    "df = pd.read_csv(\"../experimental_records.csv\")\n",
    "df"
   ]
  },
  {
   "cell_type": "markdown",
   "metadata": {},
   "source": [
    "**실험 중간 점검**\n",
    "- Feature 일부를 삭제하거나, 정규화 등의 전처리를 가했을 때 `test_f1_score`가 오히려 감소하는 모습.\n",
    "- Feature에 전처리를 가했던 이유는, validation f1 score에 비해 test f1 score가 너무 낮게 나오는 것을 보고 training data에 overfitting 된 게 아닌가 의심했기 때문임.\n",
    "- 하지만 현재 구현한 전처리로는 test f1 score가 계속해서 떨어지고 있음. 따라서 현재 전처리 방법 만으로는 성능 개선을 할 수 없음.\n",
    "---\n",
    "- `01_basic_analysis` 를 통해, positive sample의 개수가 negative sample에 비해 너무 적다는 문제점을 파악하였음. -> **Imbalanced Classification**\n",
    "- 이전의 전처리 방법은 feature를 삭제하거나, 정규화 등을 통해 **불필요한 정보를 제거**하는 방향이었음. -> Imbalanced dataset에서 정보를 제거하게 되면서, training data에 overfitting 되는 문제가 더 심각해진 것으로 보임. (정보가 줄어들면서, 데이터가 쉬워졌으니)\n",
    "- 따라서 positive / negative sample의 비율을 맞춰줄 수 있는 sampling 기법이나 architecture 등을 찾아보면서, <span style='color:tomato'>**데이터 불균형**</span> 문제를 가장 먼저 해결해야할 것으로 보임."
   ]
  }
 ],
 "metadata": {
  "kernelspec": {
   "display_name": "lgaimers",
   "language": "python",
   "name": "python3"
  },
  "language_info": {
   "codemirror_mode": {
    "name": "ipython",
    "version": 3
   },
   "file_extension": ".py",
   "mimetype": "text/x-python",
   "name": "python",
   "nbconvert_exporter": "python",
   "pygments_lexer": "ipython3",
   "version": "3.11.7"
  }
 },
 "nbformat": 4,
 "nbformat_minor": 2
}
