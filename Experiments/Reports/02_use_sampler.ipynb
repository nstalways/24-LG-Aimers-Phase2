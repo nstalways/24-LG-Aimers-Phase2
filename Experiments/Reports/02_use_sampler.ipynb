{
 "cells": [
  {
   "cell_type": "code",
   "execution_count": 4,
   "metadata": {},
   "outputs": [
    {
     "data": {
      "text/html": [
       "<div>\n",
       "<style scoped>\n",
       "    .dataframe tbody tr th:only-of-type {\n",
       "        vertical-align: middle;\n",
       "    }\n",
       "\n",
       "    .dataframe tbody tr th {\n",
       "        vertical-align: top;\n",
       "    }\n",
       "\n",
       "    .dataframe thead th {\n",
       "        text-align: right;\n",
       "    }\n",
       "</style>\n",
       "<table border=\"1\" class=\"dataframe\">\n",
       "  <thead>\n",
       "    <tr style=\"text-align: right;\">\n",
       "      <th></th>\n",
       "      <th>date</th>\n",
       "      <th>model_name</th>\n",
       "      <th>test_f1_score</th>\n",
       "      <th>description</th>\n",
       "    </tr>\n",
       "  </thead>\n",
       "  <tbody>\n",
       "    <tr>\n",
       "      <th>4</th>\n",
       "      <td>2024-02-05/17:56:50</td>\n",
       "      <td>decision_tree_w_oversampling</td>\n",
       "      <td>0.391892</td>\n",
       "      <td>모든 feature 사용/전처리 X/RandomOverSampler 적용/결측치는 ...</td>\n",
       "    </tr>\n",
       "    <tr>\n",
       "      <th>5</th>\n",
       "      <td>2024-02-05/22:53:27</td>\n",
       "      <td>decision_tree_w_undersampling</td>\n",
       "      <td>0.586722</td>\n",
       "      <td>모든 feature 사용/전처리 X/RandomUnderSampler 적용/결측치는...</td>\n",
       "    </tr>\n",
       "    <tr>\n",
       "      <th>6</th>\n",
       "      <td>2024-02-06/00:00:20</td>\n",
       "      <td>ensemble_decisiontree_w_undersampling</td>\n",
       "      <td>0.652855</td>\n",
       "      <td>10개 decision tree 사용/seed33~42/mean validation...</td>\n",
       "    </tr>\n",
       "    <tr>\n",
       "      <th>7</th>\n",
       "      <td>2024-02-06/11:45:07</td>\n",
       "      <td>ensemble_decisiontree_w_undersampling</td>\n",
       "      <td>0.649734</td>\n",
       "      <td>20개 decision tree 사용/seed33~52/mean validation...</td>\n",
       "    </tr>\n",
       "    <tr>\n",
       "      <th>8</th>\n",
       "      <td>2024-02-06/14:51:02</td>\n",
       "      <td>decision_tree_w_undersampling_delete_feature</td>\n",
       "      <td>0.610570</td>\n",
       "      <td>\"customer_country.1\" feature 삭제/RandomUnderSam...</td>\n",
       "    </tr>\n",
       "    <tr>\n",
       "      <th>9</th>\n",
       "      <td>2024-02-06/15:02:31</td>\n",
       "      <td>decision_tree_w_undersampling_delete_features</td>\n",
       "      <td>0.581432</td>\n",
       "      <td>결측치 비율이 80% 이상인 feature 및 \"customer_country.1\"...</td>\n",
       "    </tr>\n",
       "    <tr>\n",
       "      <th>10</th>\n",
       "      <td>2024-02-06/15:12:31</td>\n",
       "      <td>decision_tree_w_undersampling_feature_normaliz...</td>\n",
       "      <td>0.554104</td>\n",
       "      <td>\"customer_country\" 정규화/\"customer_country.1\" fe...</td>\n",
       "    </tr>\n",
       "    <tr>\n",
       "      <th>11</th>\n",
       "      <td>2024-02-06/15:20:02</td>\n",
       "      <td>ensemble_decisiontree_w_undersampling_and_dele...</td>\n",
       "      <td>0.638188</td>\n",
       "      <td>10개 decision tree 사용/\"customer_country.1\" feat...</td>\n",
       "    </tr>\n",
       "  </tbody>\n",
       "</table>\n",
       "</div>"
      ],
      "text/plain": [
       "                   date                                         model_name  \\\n",
       "4   2024-02-05/17:56:50                       decision_tree_w_oversampling   \n",
       "5   2024-02-05/22:53:27                      decision_tree_w_undersampling   \n",
       "6   2024-02-06/00:00:20              ensemble_decisiontree_w_undersampling   \n",
       "7   2024-02-06/11:45:07              ensemble_decisiontree_w_undersampling   \n",
       "8   2024-02-06/14:51:02       decision_tree_w_undersampling_delete_feature   \n",
       "9   2024-02-06/15:02:31      decision_tree_w_undersampling_delete_features   \n",
       "10  2024-02-06/15:12:31  decision_tree_w_undersampling_feature_normaliz...   \n",
       "11  2024-02-06/15:20:02  ensemble_decisiontree_w_undersampling_and_dele...   \n",
       "\n",
       "    test_f1_score                                        description  \n",
       "4        0.391892  모든 feature 사용/전처리 X/RandomOverSampler 적용/결측치는 ...  \n",
       "5        0.586722  모든 feature 사용/전처리 X/RandomUnderSampler 적용/결측치는...  \n",
       "6        0.652855  10개 decision tree 사용/seed33~42/mean validation...  \n",
       "7        0.649734  20개 decision tree 사용/seed33~52/mean validation...  \n",
       "8        0.610570  \"customer_country.1\" feature 삭제/RandomUnderSam...  \n",
       "9        0.581432  결측치 비율이 80% 이상인 feature 및 \"customer_country.1\"...  \n",
       "10       0.554104  \"customer_country\" 정규화/\"customer_country.1\" fe...  \n",
       "11       0.638188  10개 decision tree 사용/\"customer_country.1\" feat...  "
      ]
     },
     "execution_count": 4,
     "metadata": {},
     "output_type": "execute_result"
    }
   ],
   "source": [
    "import pandas as pd\n",
    "\n",
    "df = pd.read_csv(\"../experimental_records.csv\")\n",
    "df[4:]"
   ]
  },
  {
   "cell_type": "markdown",
   "metadata": {},
   "source": [
    "### Sampler를 이용한 실험 결과"
   ]
  },
  {
   "cell_type": "markdown",
   "metadata": {},
   "source": [
    "**A. <span style='color:blue'>[0.391892]</span> Oversampling만 하는 것은 무리**\n",
    "- Negative sample이 positive sample보다 10배 이상 많은 상황에서 oversampling을 하니, training data에 overfitting이 발생한 것 같고, 그에 따라 `test_f1_score`가 큰 폭으로 하락하였음.\n",
    "---\n",
    "**B. <span style='color:red'>[0.586722]</span> Undersampling 효과 확인 + data imbalance 문제 해소**\n",
    "- 반대로 negative sample을 undersampling하여 positive sample과 비율을 맞춰준 뒤 학습한 모델을 제출하니, `test_f1_score`가 큰 폭으로 상승하였음.\n",
    "---\n",
    "<span style='color:tomato'>**C. [0.652855, Best] Ensemble decision tree + undersampling**</span>\n",
    "- Negative sample을 undersampling 하는 과정에서 버려지는 데이터가 많았기 때문에, 여러 seed를 활용하여 서로 다른 negative sample을 가지는 subset을 만든 뒤, 이를 ensemble 해보자는 아이디어를 기반으로 실험한 결과 `test_f1_score`가 큰 폭으로 상승하였음.\n",
    "---\n",
    "**D. <span style='color:red'>[0.610570]</span> `customer_country.1` feature 삭제에 따른 성능 향상 확인**\n",
    "- Ensemble 모델에 feature preprocessing을 적용하기 이전에, decision tree with undersampling 세팅에 feature preprocessing을 적용하여 성능을 테스트하고자 했고, 총 세 가지 전처리 시나리오를 수행하였음.\n",
    "    1. `customer_country.1` feature 삭제\n",
    "    1. `customer_country.1` feature 삭제 + 결측치 비율이 80% 이상인 feature 삭제\n",
    "    1. `customer_country.1` feature 삭제 + `customer_country` feature 정규화\n",
    "    - 실험 B와 결과를 비교했을 때, test_f1_score 기준 1번은 +0.03, 나머지는 하락\n",
    "---\n",
    "**E. <span style='color:blue'>[0.638188]</span> Feature preprocessing 효과는 없었음**\n",
    "- 실험 D-1: `customer_country.1` feature 삭제에 따른 성능 향상을 관측했기 때문에, 현재 가장 높은 성능을 기록 중인 실험 C에 실험 D-1 세팅을 추가\n",
    "- Best test f1 score 대비 0.02 하락 -> feature preprocessing은 나중에 하는 것으로"
   ]
  },
  {
   "cell_type": "markdown",
   "metadata": {},
   "source": [
    "### 실험 계획"
   ]
  },
  {
   "cell_type": "markdown",
   "metadata": {},
   "source": [
    "- Undersampling + 다른 모델 (e.g., svm, gbm, AdaBoost, lightGBM, XGBoost, CatBoost)\n",
    "- 새로운 기법 탐색 (e.g., Logistic Regression, Out-Of-Distribution Detection)"
   ]
  }
 ],
 "metadata": {
  "kernelspec": {
   "display_name": "lgaimers",
   "language": "python",
   "name": "python3"
  },
  "language_info": {
   "codemirror_mode": {
    "name": "ipython",
    "version": 3
   },
   "file_extension": ".py",
   "mimetype": "text/x-python",
   "name": "python",
   "nbconvert_exporter": "python",
   "pygments_lexer": "ipython3",
   "version": "3.11.7"
  }
 },
 "nbformat": 4,
 "nbformat_minor": 2
}
