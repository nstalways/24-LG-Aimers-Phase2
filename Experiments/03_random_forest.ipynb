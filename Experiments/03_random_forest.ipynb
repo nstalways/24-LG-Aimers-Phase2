{
 "cells": [
  {
   "cell_type": "code",
   "execution_count": null,
   "metadata": {},
   "outputs": [],
   "source": [
    "# basic library\n",
    "import numpy as np\n",
    "import pandas as pd\n",
    "from collections import Counter\n",
    "\n",
    "# models\n",
    "from sklearn.ensemble import RandomForestClassifier\n",
    "\n",
    "# custom modules\n",
    "from utils import set_seed, get_clf_eval, make_submission, record_experimental_results\n",
    "import preprocessing as pp\n",
    "\n",
    "# preprocessing\n",
    "from imblearn.under_sampling import RandomUnderSampler\n",
    "\n",
    "# visualization\n",
    "import matplotlib.pyplot as plt\n",
    "import seaborn as sns\n",
    "\n",
    "# metrics\n",
    "from sklearn.metrics import f1_score"
   ]
  },
  {
   "cell_type": "markdown",
   "metadata": {},
   "source": [
    "### Global Setting"
   ]
  },
  {
   "cell_type": "code",
   "execution_count": null,
   "metadata": {},
   "outputs": [],
   "source": [
    "hparams = {\n",
    "    'seed': 33,\n",
    "}"
   ]
  },
  {
   "cell_type": "code",
   "execution_count": null,
   "metadata": {},
   "outputs": [],
   "source": [
    "set_seed(hparams['seed'])"
   ]
  },
  {
   "cell_type": "markdown",
   "metadata": {},
   "source": [
    "### 실험 01: `RandomForestClassifier()`"
   ]
  },
  {
   "cell_type": "markdown",
   "metadata": {},
   "source": [
    "**Data preprocessing**"
   ]
  },
  {
   "cell_type": "code",
   "execution_count": null,
   "metadata": {},
   "outputs": [],
   "source": [
    "# data load & label encoding\n",
    "tr_data, tt_data = pp.load_data()\n",
    "x_tr, x_tt = pp.label_encoding(tr_data, tt_data)"
   ]
  },
  {
   "cell_type": "code",
   "execution_count": null,
   "metadata": {},
   "outputs": [],
   "source": [
    "y_tr = x_tr['is_converted']\n",
    "x_tr = x_tr.drop(columns=['is_converted'])"
   ]
  },
  {
   "cell_type": "markdown",
   "metadata": {},
   "source": [
    "**Model**"
   ]
  },
  {
   "cell_type": "code",
   "execution_count": null,
   "metadata": {},
   "outputs": [],
   "source": [
    "rfc_params_01 = {\n",
    "    'n_estimators': 30, # 사용할 decision tree의 개수\n",
    "    'criterion': 'gini', # statement의 분류 성능을 평가할 기준\n",
    "    'max_depth': None, # tree의 최대 깊이\n",
    "    'min_samples_split': 2, # internal node를 나누기 위해 필요한 최소 샘플 개수 (이 값 이하면 split X)\n",
    "    'min_samples_leaf': 1, # min_samples_leaf 이상의 samples을 가져야만 leaf node로 간주됨 (?)\n",
    "    'min_weight_fraction_leaf': 0.0, # ?\n",
    "    'max_features': None, # best split을 찾기 위해 고려할 features의 개수\n",
    "    'max_leaf_nodes': None, # ?\n",
    "    'min_impurity_decrease': 0.0, # 특정 node를 split할 때, impurity가 이 값 이상 감소해야만 split을 수행\n",
    "    'bootstrap': True, # sampling을 통해 만든 subset 간 데이터 중복을 허용하는지 여부. (False이면 모든 tree가 동일한 dataset 이용)\n",
    "    'oob_score': True, # out-of-bag sample을 이용해 일반화 성능을 측정할 때 사용 (bootstrap==True일 때만 사용가능)\n",
    "    'n_jobs': None, # 작업을 병렬적으로 수행하고 싶을 때 사용 (-1이면 모든 CPU 코어를 사용)\n",
    "    'random_state': hparams['seed'], # 모델링 과정에 필요한 randomness를 부여할 때 사용할 값\n",
    "    'verbose': 1, # fitting 과정에 대한 정보를 어느 정도로 출력할 지 결정\n",
    "    'warm_start': False, # 이전에 만들었던 forest가 존재한다면, 해당 정보를 참고하여 새로운 forest를 build (재현가능성을 위해 False로 고정)\n",
    "    'class_weight': \"balanced_subsample\", # class 비율을 고려하여 sampling할 때 사용\n",
    "    'ccp_alpha': 0.00045, # cost-complexity pruning에 사용할 alpha 값\n",
    "    'max_samples': None, # sampling 할 데이터의 총 개수\n",
    "    # 'monotonic_cst': None, # available at >= 1.4\n",
    "}   "
   ]
  },
  {
   "cell_type": "code",
   "execution_count": null,
   "metadata": {},
   "outputs": [],
   "source": [
    "rfc_params_02 = {\n",
    "    'n_estimators': 100, # rfc_params_01 대비 3배 증가\n",
    "    'criterion': 'gini', \n",
    "    'max_depth': None, \n",
    "    'min_samples_split': 2, \n",
    "    'min_samples_leaf': 1, \n",
    "    'min_weight_fraction_leaf': 0.0, \n",
    "    'max_features': None, \n",
    "    'max_leaf_nodes': None, \n",
    "    'min_impurity_decrease': 0.0, \n",
    "    'bootstrap': True, \n",
    "    'oob_score': True, \n",
    "    'n_jobs': None, \n",
    "    'random_state': hparams['seed'], \n",
    "    'verbose': 1, \n",
    "    'warm_start': False, \n",
    "    'class_weight': \"balanced_subsample\", \n",
    "    'ccp_alpha': 0.00045, \n",
    "    'max_samples': None, \n",
    "}   "
   ]
  },
  {
   "cell_type": "code",
   "execution_count": null,
   "metadata": {},
   "outputs": [],
   "source": [
    "rfc_params_03 = {\n",
    "    'n_estimators': 100, \n",
    "    'criterion': 'gini', \n",
    "    'max_depth': None, \n",
    "    'min_samples_split': 2, \n",
    "    'min_samples_leaf': 1, \n",
    "    'min_weight_fraction_leaf': 0.0, \n",
    "    'max_features': 'sqrt', # rfc_params_02: None에서 'sqrt'로 변경\n",
    "    'max_leaf_nodes': None, \n",
    "    'min_impurity_decrease': 0.0, \n",
    "    'bootstrap': True, \n",
    "    'oob_score': True, \n",
    "    'n_jobs': None, \n",
    "    'random_state': hparams['seed'], \n",
    "    'verbose': 1, \n",
    "    'warm_start': False, \n",
    "    'class_weight': \"balanced_subsample\", \n",
    "    'ccp_alpha': 0.00045, \n",
    "    'max_samples': None, \n",
    "}   "
   ]
  },
  {
   "cell_type": "code",
   "execution_count": null,
   "metadata": {},
   "outputs": [],
   "source": [
    "rfc_params_04 = {\n",
    "    'n_estimators': 100, \n",
    "    'criterion': 'gini', \n",
    "    'max_depth': None, \n",
    "    'min_samples_split': 2, \n",
    "    'min_samples_leaf': 1, \n",
    "    'min_weight_fraction_leaf': 0.0, \n",
    "    'max_features': None,\n",
    "    'max_leaf_nodes': None, \n",
    "    'min_impurity_decrease': 0.0, \n",
    "    'bootstrap': True, \n",
    "    'oob_score': True, \n",
    "    'n_jobs': None, \n",
    "    'random_state': hparams['seed'], \n",
    "    'verbose': 1, \n",
    "    'warm_start': False, \n",
    "    'class_weight': \"balanced_subsample\", \n",
    "    'ccp_alpha': 0.0005, # rfc_params_02 대비 0.00005 증가\n",
    "    'max_samples': None, \n",
    "}   "
   ]
  },
  {
   "cell_type": "code",
   "execution_count": null,
   "metadata": {},
   "outputs": [],
   "source": [
    "rfc_params_05 = {\n",
    "    'n_estimators': 100, \n",
    "    'criterion': 'gini', \n",
    "    'max_depth': None, \n",
    "    'min_samples_split': 2, \n",
    "    'min_samples_leaf': 1, \n",
    "    'min_weight_fraction_leaf': 0.0, \n",
    "    'max_features': None,\n",
    "    'max_leaf_nodes': None, \n",
    "    'min_impurity_decrease': 0.0, \n",
    "    'bootstrap': True, \n",
    "    'oob_score': True, \n",
    "    'n_jobs': None, \n",
    "    'random_state': hparams['seed'], \n",
    "    'verbose': 1, \n",
    "    'warm_start': False, \n",
    "    'class_weight': \"balanced_subsample\", \n",
    "    'ccp_alpha': 0.0004, # rfc_params_02 대비 0.00005 감소\n",
    "    'max_samples': None, \n",
    "}   "
   ]
  },
  {
   "cell_type": "code",
   "execution_count": null,
   "metadata": {},
   "outputs": [],
   "source": [
    "rfc = RandomForestClassifier(**rfc_params_05)"
   ]
  },
  {
   "cell_type": "markdown",
   "metadata": {},
   "source": [
    "**Training**"
   ]
  },
  {
   "cell_type": "code",
   "execution_count": null,
   "metadata": {},
   "outputs": [],
   "source": [
    "rfc.fit(x_tr.fillna(0), y_tr)"
   ]
  },
  {
   "cell_type": "code",
   "execution_count": null,
   "metadata": {},
   "outputs": [],
   "source": [
    "fi = rfc.feature_importances_\n",
    "fi = pd.Series(fi, index=x_tr.columns).sort_values(ascending=False)\n",
    "\n",
    "sns.barplot(x=fi, y=fi.index)"
   ]
  },
  {
   "cell_type": "markdown",
   "metadata": {},
   "source": [
    "**Make a submission file**"
   ]
  },
  {
   "cell_type": "code",
   "execution_count": null,
   "metadata": {},
   "outputs": [],
   "source": [
    "x_tt = x_tt.drop(['is_converted', 'id'], axis=1)"
   ]
  },
  {
   "cell_type": "code",
   "execution_count": null,
   "metadata": {},
   "outputs": [],
   "source": [
    "y_test_pred = rfc.predict(x_tt.fillna(0))\n",
    "sum(y_test_pred) # ???"
   ]
  },
  {
   "cell_type": "code",
   "execution_count": null,
   "metadata": {},
   "outputs": [],
   "source": [
    "model_name = 'randomForest_params05'"
   ]
  },
  {
   "cell_type": "code",
   "execution_count": null,
   "metadata": {},
   "outputs": [],
   "source": [
    "make_submission(dir_name='03_random_forest',\n",
    "                y_pred=y_test_pred,\n",
    "                model_name=model_name)"
   ]
  },
  {
   "cell_type": "markdown",
   "metadata": {},
   "source": [
    "**Record**"
   ]
  },
  {
   "cell_type": "code",
   "execution_count": null,
   "metadata": {},
   "outputs": [],
   "source": [
    "record_experimental_results(model_name=model_name,\n",
    "                            test_f1_score='0.7178936055883933',\n",
    "                            description='randomForest_params02 실험에서 ccp_alpha 값을 0.00005 만큼 감소')"
   ]
  },
  {
   "cell_type": "markdown",
   "metadata": {},
   "source": [
    "---"
   ]
  },
  {
   "cell_type": "markdown",
   "metadata": {},
   "source": [
    "### 실험 02: Skew data transformation"
   ]
  },
  {
   "cell_type": "code",
   "execution_count": null,
   "metadata": {},
   "outputs": [],
   "source": [
    "tr_data, tt_data = pp.load_data()\n",
    "x_tr, x_tt = pp.label_encoding(tr_data, tt_data)"
   ]
  },
  {
   "cell_type": "code",
   "execution_count": null,
   "metadata": {},
   "outputs": [],
   "source": [
    "x_tr['lead_desc_length'] = np.log1p(x_tr['lead_desc_length'])\n",
    "x_tt['lead_desc_length'] = np.log1p(x_tt['lead_desc_length'])"
   ]
  },
  {
   "cell_type": "code",
   "execution_count": null,
   "metadata": {},
   "outputs": [],
   "source": [
    "y_tr = x_tr['is_converted']\n",
    "x_tr = x_tr.drop(columns=['is_converted'])"
   ]
  },
  {
   "cell_type": "code",
   "execution_count": null,
   "metadata": {},
   "outputs": [],
   "source": [
    "rfc_params_05 = {\n",
    "    'n_estimators': 100, \n",
    "    'criterion': 'gini', \n",
    "    'max_depth': None, \n",
    "    'min_samples_split': 2, \n",
    "    'min_samples_leaf': 1, \n",
    "    'min_weight_fraction_leaf': 0.0, \n",
    "    'max_features': None,\n",
    "    'max_leaf_nodes': None, \n",
    "    'min_impurity_decrease': 0.0, \n",
    "    'bootstrap': True, \n",
    "    'oob_score': True, \n",
    "    'n_jobs': None, \n",
    "    'random_state': hparams['seed'], \n",
    "    'verbose': 1, \n",
    "    'warm_start': False, \n",
    "    'class_weight': \"balanced_subsample\", \n",
    "    'ccp_alpha': 0.0004, # rfc_params_02 대비 0.00005 감소\n",
    "    'max_samples': None, \n",
    "}   "
   ]
  },
  {
   "cell_type": "code",
   "execution_count": null,
   "metadata": {},
   "outputs": [],
   "source": [
    "rfc = RandomForestClassifier(**rfc_params_05)"
   ]
  },
  {
   "cell_type": "markdown",
   "metadata": {},
   "source": [
    "**Training**"
   ]
  },
  {
   "cell_type": "code",
   "execution_count": null,
   "metadata": {},
   "outputs": [],
   "source": [
    "rfc.fit(x_tr.fillna(0), y_tr)"
   ]
  },
  {
   "cell_type": "code",
   "execution_count": null,
   "metadata": {},
   "outputs": [],
   "source": [
    "fi = rfc.feature_importances_\n",
    "fi = pd.Series(fi, index=x_tr.columns).sort_values(ascending=False)\n",
    "\n",
    "sns.barplot(x=fi, y=fi.index)"
   ]
  },
  {
   "cell_type": "markdown",
   "metadata": {},
   "source": [
    "**Make a submission file**"
   ]
  },
  {
   "cell_type": "code",
   "execution_count": null,
   "metadata": {},
   "outputs": [],
   "source": [
    "x_tt = x_tt.drop(['is_converted', 'id'], axis=1)"
   ]
  },
  {
   "cell_type": "code",
   "execution_count": null,
   "metadata": {},
   "outputs": [],
   "source": [
    "x_tr['is_converted'] = y_tr\n",
    "sns.kdeplot(x_tr[x_tr['is_converted'] == True]['lead_desc_length'])\n",
    "sns.kdeplot(x_tr[x_tr['is_converted'] == False]['lead_desc_length'])"
   ]
  },
  {
   "cell_type": "code",
   "execution_count": null,
   "metadata": {},
   "outputs": [],
   "source": [
    "y_test_pred = rfc.predict(x_tt.fillna(0))\n",
    "sum(y_test_pred) # ???"
   ]
  },
  {
   "cell_type": "code",
   "execution_count": null,
   "metadata": {},
   "outputs": [],
   "source": [
    "model_name = 'randomForest_params05_logTransform'"
   ]
  },
  {
   "cell_type": "code",
   "execution_count": null,
   "metadata": {},
   "outputs": [],
   "source": [
    "make_submission(dir_name='03_random_forest',\n",
    "                y_pred=y_test_pred,\n",
    "                model_name=model_name)"
   ]
  },
  {
   "cell_type": "markdown",
   "metadata": {},
   "source": [
    "**Record**"
   ]
  },
  {
   "cell_type": "code",
   "execution_count": null,
   "metadata": {},
   "outputs": [],
   "source": [
    "record_experimental_results(model_name=model_name,\n",
    "                            test_f1_score='0.7178936055883933',\n",
    "                            description='randomForest_params05 실험에서 lead_desc_length feature에 log transformation 적용')"
   ]
  },
  {
   "cell_type": "markdown",
   "metadata": {},
   "source": [
    "---"
   ]
  }
 ],
 "metadata": {
  "kernelspec": {
   "display_name": "lgaimers",
   "language": "python",
   "name": "python3"
  },
  "language_info": {
   "codemirror_mode": {
    "name": "ipython",
    "version": 3
   },
   "file_extension": ".py",
   "mimetype": "text/x-python",
   "name": "python",
   "nbconvert_exporter": "python",
   "pygments_lexer": "ipython3",
   "version": "3.11.7"
  }
 },
 "nbformat": 4,
 "nbformat_minor": 2
}
